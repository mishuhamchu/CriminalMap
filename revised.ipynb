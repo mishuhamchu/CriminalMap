{
 "cells": [
  {
   "cell_type": "code",
   "execution_count": 4,
   "id": "7da9c349-66c4-4aa8-b0d3-f7ae8c29561c",
   "metadata": {},
   "outputs": [
    {
     "name": "stdout",
     "output_type": "stream",
     "text": [
      "['/usr/lib/python312.zip', '/usr/lib/python3.12', '/usr/lib/python3.12/lib-dynload', '', '/home/mishu/coding/CriminalMap/.venv/lib/python3.12/site-packages']\n"
     ]
    }
   ],
   "source": [
    "#install playwright: here are the commands:\n",
    "\n",
    "#pip install playwright\n",
    "#playwright install\n",
    "\n",
    "\n",
    "import sys\n",
    "\n",
    "print(sys.path)\n",
    "\n",
    "sys.path.append('/home/mishu/coding/CriminalTracker/lib/python3.11/site-packages')\n",
    "\n",
    "from geopy.geocoders import Nominatim\n"
   ]
  },
  {
   "cell_type": "code",
   "execution_count": 5,
   "id": "52678c25-8270-40f3-84df-ba78c470c007",
   "metadata": {},
   "outputs": [],
   "source": [
    "import asyncio\n",
    "import threading"
   ]
  },
  {
   "cell_type": "code",
   "execution_count": 6,
   "id": "bfbc223b-83d3-4df9-b41e-0979ecc3c66d",
   "metadata": {},
   "outputs": [],
   "source": [
    "import re\n",
    "import random\n",
    "import pandas as pd\n",
    "from bs4 import BeautifulSoup\n",
    "import folium\n",
    "import numpy as np\n",
    "from sklearn.linear_model import LinearRegression\n",
    "from sklearn.tree import DecisionTreeRegressor\n"
   ]
  },
  {
   "cell_type": "code",
   "execution_count": 7,
   "id": "4d0f8247-cb7d-4521-aa60-163fc3848aa3",
   "metadata": {},
   "outputs": [],
   "source": [
    "import pytest\n",
    "from playwright.async_api import Page, expect, async_playwright, Playwright, TimeoutError\n",
    "import googlemaps\n",
    "from datetime import datetime\n",
    "\n",
    "from geopy.geocoders import GoogleV3\n",
    "from geopy.geocoders import Nominatim\n",
    "import gmplot\n",
    "import requests"
   ]
  },
  {
   "cell_type": "code",
   "execution_count": 8,
   "id": "6ec5cc72-8877-4d61-8e2e-47652a9d7837",
   "metadata": {},
   "outputs": [],
   "source": [
    "from sklearn.model_selection import train_test_split\n",
    "from sklearn.metrics import mean_squared_error, r2_score"
   ]
  },
  {
   "cell_type": "code",
   "execution_count": 10,
   "id": "c43a24e5-0795-44e6-83a1-ae2f956a6d89",
   "metadata": {},
   "outputs": [],
   "source": [
    "def convertState(state):\n",
    "    state_codes = {\n",
    "        'AL': 'alabama',\n",
    "        'AK': 'Alaska',\n",
    "        'AZ': 'Arizona',\n",
    "        'AR': 'Arkansas',\n",
    "        'CA': 'California',\n",
    "        'CO': 'Colorado',\n",
    "        'CT': 'Connecticut',\n",
    "        'DE': 'Delaware',\n",
    "        'FL': 'Florida',\n",
    "        'GA': 'Georgia',\n",
    "        'HI': 'Hawaii',\n",
    "        'ID': 'Idaho',\n",
    "        'IL': 'Illinois',\n",
    "        'IN': 'Indiana',\n",
    "        'IA': 'Iowa',\n",
    "        'KS': 'Kansas',\n",
    "        'KY': 'Kentucky',\n",
    "        'LA': 'Louisiana',\n",
    "        'ME': 'Maine',\n",
    "        'MD': 'Maryland',\n",
    "        'MA': 'Massachusetts',\n",
    "        'MI': 'Michigan',\n",
    "        'MN': 'Minnesota',\n",
    "        'MS': 'Mississippi',\n",
    "        'MO': 'Missouri',\n",
    "        'MT': 'Montana',\n",
    "        'NE': 'Nebraska',\n",
    "        'NV': 'Nevada',\n",
    "        'NH': 'New Hampshire',\n",
    "        'NJ': 'New Jersey',\n",
    "        'NM': 'New Mexico',\n",
    "        'NY': 'New York',\n",
    "        'NC': 'North Carolina',\n",
    "        'ND': 'North Dakota',\n",
    "        'OH': 'Ohio',\n",
    "        'OK': 'Oklahoma',\n",
    "        'OR': 'Oregon',\n",
    "        'PA': 'Pennsylvania',\n",
    "        'RI': 'Rhode Island',\n",
    "        'Spage.set_default_timeout(100000)C': 'South Carolina',\n",
    "        'SD': 'South Dakota',\n",
    "        'TN': 'Tennessee',\n",
    "        'TX': 'Texas',\n",
    "        'UT': 'Utah',\n",
    "        'VT': 'Vermont',\n",
    "        'VA': 'Virginia',\n",
    "        'WA': 'Washington',\n",
    "        'WV': 'West Virginia',\n",
    "        'WI': 'Wisconsin',\n",
    "        'WY': 'Wyoming',\n",
    "    }\n",
    "    #print(\"this is the state:\" + state)\n",
    "    #print(\"this is the state we are checking:\" + state_codes['NC'])\n",
    "    return state_codes[state]"
   ]
  },
  {
   "cell_type": "code",
   "execution_count": 7,
   "id": "051315c2-2dbd-449e-9850-c992100a1d64",
   "metadata": {},
   "outputs": [],
   "source": [
    "def convert_to_state_code(stateName):\n",
    "    state_codes = {\n",
    "        'alabama': 'AL', 'alaska': 'AK', 'arizona': 'AZ', 'arkansas': 'AR', 'california': 'CA',\n",
    "        'colorado': 'CO', 'connecticut': 'CT', 'delaware': 'DE', 'florida': 'FL', 'georgia': 'GA',\n",
    "        'hawaii': 'HI', 'idaho': 'ID', 'illinois': 'IL', 'indiana': 'IN', 'iowa': 'IA',\n",
    "        'kansas': 'KS', 'kentucky': 'KY', 'louisiana': 'LA', 'maine': 'ME', 'maryland': 'MD',\n",
    "        'massachusetts': 'MA', 'michigan': 'MI', 'minnesota': 'MN', 'mississippi': 'MS', 'missouri': 'MO',\n",
    "        'montana': 'MT', 'nebraska': 'NE', 'nevada': 'NV', 'new hampshire': 'NH', 'new jersey': 'NJ',\n",
    "        'new mexico': 'NM', 'new york': 'NY', 'north carolina': 'NC', 'north dakota': 'ND', 'ohio': 'OH',\n",
    "        'oklahoma': 'OK', 'oregon': 'OR', 'pennsylvania': 'PA', 'rhode island': 'RI', 'south carolina': 'SC',\n",
    "        'south dakota': 'SD', 'tennessee': 'TN', 'texas': 'TX', 'utah': 'UT', 'vermont': 'VT',\n",
    "        'virginia': 'VA', 'washington': 'WA', 'west virginia': 'WV', 'wisconsin': 'WI', 'wyoming': 'WY'\n",
    "    }\n",
    "\n",
    "\n",
    "    return state_codes[stateName]"
   ]
  },
  {
   "cell_type": "code",
   "execution_count": 8,
   "id": "817bf7c1-b6f3-4fee-9f56-bbc76e8541dd",
   "metadata": {},
   "outputs": [],
   "source": [
    "async def mainDebug():\n",
    "    async with async_playwright() as playwright:\n",
    "        return  (await debugDup(playwright))"
   ]
  },
  {
   "cell_type": "code",
   "execution_count": 9,
   "id": "59e25973-3290-4f83-b18c-eecf35295e41",
   "metadata": {},
   "outputs": [],
   "source": [
    "async def debugDup(playwright):\n",
    "    print(\"Entered the realtor part!\")\n",
    "    firefox = playwright.firefox\n",
    "    browser = await firefox.launch(\n",
    "    page = await browser.new_page()\n",
    "    page.set_default_timeout(timeout = 200000)\n",
    "    await page.goto(\"https://www.realtor.com/realestateandhomes-detail/Casanova-3-Sw-of-10th-Ave_Carmel_CA_93921_M99940-55739?from=srp-list-card\")\n",
    "    return await getPrice(page)"
   ]
  },
  {
   "cell_type": "code",
   "execution_count": 22,
   "id": "b810ee76",
   "metadata": {},
   "outputs": [],
   "source": [
    "async def collectPage(page):\n",
    "\n",
    "    print(\"this is the page url: \" + str(page.url))\n",
    "    new_entries = {}\n",
    "    table = page.locator('#nsopwdt')\n",
    "    \n",
    "\n",
    "    if await table.count() > 0:\n",
    "            print(\"Table found\")\n",
    "            rows = table.locator(\"tr\")\n",
    "            tableData = rows.nth(i).locator('td')\n",
    "    \n",
    "\n",
    "            name = await tableData.nth(0).text_content()\n",
    "            address = await tableData.nth(3).text_content()\n",
    "            print(\"this is the name: \"  + str(name))\n",
    "            print(\"this is the address: \" + str(address))\n",
    "            # Optionally clean up the address\n",
    "            pattern = r\"(\\d{5}-\\d{4}|\\d{5}).*\"\n",
    "            modified_address = re.sub(pattern, r\"\\1\", address)\n",
    "            \n",
    "            new_entries[name] = modified_address\n",
    "\n",
    "    return new_entries"
   ]
  },
  {
   "cell_type": "code",
   "execution_count": 24,
   "id": "94176a82",
   "metadata": {},
   "outputs": [
    {
     "name": "stdout",
     "output_type": "stream",
     "text": [
      "Entered updated public records\n",
      "this is the address:218 towne ridge lane chapel hill, NC 27516\n",
      "this is the address:218 towne ridge lane chapel hill,27516\n",
      "this is the city:lane chapel hill\n",
      "this is the state:NC\n",
      "https://www.nsopw.gov/search-public-sex-offender-registries\n"
     ]
    },
    {
     "ename": "TypeError",
     "evalue": "collectPage() takes 1 positional argument but 2 were given",
     "output_type": "error",
     "traceback": [
      "\u001b[0;31m---------------------------------------------------------------------------\u001b[0m",
      "\u001b[0;31mTypeError\u001b[0m                                 Traceback (most recent call last)",
      "Cell \u001b[0;32mIn[24], line 1\u001b[0m\n\u001b[0;32m----> 1\u001b[0m \u001b[38;5;28;01mawait\u001b[39;00m main2(\u001b[38;5;124m\"\u001b[39m\u001b[38;5;124m218 towne ridge lane chapel hill, NC 27516\u001b[39m\u001b[38;5;124m\"\u001b[39m)\n",
      "Cell \u001b[0;32mIn[14], line 3\u001b[0m, in \u001b[0;36mmain2\u001b[0;34m(address)\u001b[0m\n\u001b[1;32m      1\u001b[0m \u001b[38;5;28;01masync\u001b[39;00m \u001b[38;5;28;01mdef\u001b[39;00m \u001b[38;5;21mmain2\u001b[39m(address):\n\u001b[1;32m      2\u001b[0m     \u001b[38;5;28;01masync\u001b[39;00m \u001b[38;5;28;01mwith\u001b[39;00m async_playwright() \u001b[38;5;28;01mas\u001b[39;00m playwright:\n\u001b[0;32m----> 3\u001b[0m         \u001b[38;5;28;01mreturn\u001b[39;00m (\u001b[38;5;28;01mawait\u001b[39;00m publicRecordsTest(playwright, address))\n",
      "Cell \u001b[0;32mIn[23], line 92\u001b[0m, in \u001b[0;36mpublicRecordsTest\u001b[0;34m(playwright, address)\u001b[0m\n\u001b[1;32m     87\u001b[0m     \u001b[38;5;28;01mexcept\u001b[39;00m \u001b[38;5;167;01mException\u001b[39;00m \u001b[38;5;28;01mas\u001b[39;00m e:\n\u001b[1;32m     88\u001b[0m      \u001b[38;5;66;03m#   print(\"click failed for i = \" + str(i))\u001b[39;00m\n\u001b[1;32m     89\u001b[0m         \u001b[38;5;28;01mbreak\u001b[39;00m\n\u001b[0;32m---> 92\u001b[0m new_entries \u001b[38;5;241m=\u001b[39m \u001b[38;5;28;01mawait\u001b[39;00m \u001b[43mcollectPage\u001b[49m\u001b[43m(\u001b[49m\u001b[43mhashy\u001b[49m\u001b[43m,\u001b[49m\u001b[43m \u001b[49m\u001b[43mpage\u001b[49m\u001b[43m)\u001b[49m\n\u001b[1;32m     93\u001b[0m \u001b[38;5;28;01mif\u001b[39;00m (new_entries \u001b[38;5;241m!=\u001b[39m \u001b[38;5;28;01mNone\u001b[39;00m):\n\u001b[1;32m     94\u001b[0m     \u001b[38;5;28;01mawait\u001b[39;00m hashy\u001b[38;5;241m.\u001b[39mupdate(new_entries)\n",
      "\u001b[0;31mTypeError\u001b[0m: collectPage() takes 1 positional argument but 2 were given"
     ]
    }
   ],
   "source": [
    "await main2(\"218 towne ridge lane chapel hill, NC 27516\")"
   ]
  },
  {
   "cell_type": "code",
   "execution_count": 25,
   "id": "4a7bab77-aaf3-4bff-b35d-e329f9900669",
   "metadata": {},
   "outputs": [
    {
     "ename": "SyntaxError",
     "evalue": "invalid syntax (753225352.py, line 61)",
     "output_type": "error",
     "traceback": [
      "\u001b[0;36m  Cell \u001b[0;32mIn[25], line 61\u001b[0;36m\u001b[0m\n\u001b[0;31m    return {}    if await table.count() > 0:\u001b[0m\n\u001b[0m                                           ^\u001b[0m\n\u001b[0;31mSyntaxError\u001b[0m\u001b[0;31m:\u001b[0m invalid syntax\n"
     ]
    }
   ],
   "source": [
    "async def publicRecordsTest(playwright : Playwright, address):\n",
    "    print(\"Entered updated public records\")\n",
    "    firefox = playwright.firefox\n",
    "    browser = await firefox.launch()\n",
    "    hashy = {}\n",
    "    #seperated = address\n",
    "    \n",
    "    #218 towne Ridge Lane Chapel Hill NC 27516\n",
    "    #here we need to get the house number, street name followed by the zipcode\n",
    "\n",
    "#r'^\\d{1,5}\\s([A-Za-z]+\\s*)+,\\s([A-Za-z]+\\s)+[A-Z]{2}\\s\\d{5}$'\n",
    "    print( \"this is the address:\" + address)\n",
    "    regex = r'^(\\d{1,2}-*\\d{3}|\\d{1,5})\\s(([A-Za-z]+|[0-9]{1,3}th|#|\\d{2}-\\d{2})\\s*)*,'\n",
    "    addressFill = \"\"\n",
    "    try:\n",
    "        addressFill = re.search(regex, address).group()\n",
    " \n",
    "        addressFill += re.search(\"[0-9]{5}\", address).group()\n",
    "        print(\"this is the address:\" + addressFill)\n",
    "\n",
    "        regexCity = r\"([A-Za-z]+-*\\s*){1,3}(?=,\\s[A-Z]{2}\\s\\d{5})\"\n",
    "        city = re.search(regexCity, address).group()\n",
    "        print(\"this is the city:\" + city)\n",
    "        state = re.search(\"[A-Z]{2}\", address).group()\n",
    "        print(\"this is the state:\" + state)\n",
    "    \n",
    "    except AttributeError:\n",
    "          print(\"unfortunately the address does not match the regex\")\n",
    "          return None\n",
    "          text = await table.inner_text()\n",
    "\n",
    "    page = await browser.new_page()\n",
    "    \n",
    "        #here, we are getting the table\n",
    "      \n",
    "    await page.goto(\"https://www.nsopw.gov/\")\n",
    "    await  page.get_by_placeholder(text=\"Address (Required)\", exact=True).fill(addressFill)\n",
    "  \n",
    "    await  page.get_by_placeholder(text=\"City/Town (Required)\", exact=True).fill(city)\n",
    "\n",
    "    await page.locator('#distance').select_option(\"3\")\n",
    "   \n",
    "    await page.locator('#stateradius').select_option(state)\n",
    "    \n",
    "    await page.locator(\"#searchbyaddressradius\").click()\n",
    "    \n",
    "    await page.wait_for_url( \"https://www.nsopw.gov/search-public-sex-offender-registries\")\n",
    "    print(page.url)\n",
    "\n",
    "    \n",
    "    await page.locator(\"#confirmBtn\").click()\n",
    "    await page.wait_for_timeout(10000)\n",
    "    table =  await page.query_selector('table#nsopwdt')\n",
    "   # print(\"this is table\")\n",
    "   # print(table)\n",
    "    text = await table.inner_text()\n",
    "    text.strip()\n",
    "    #print(\"this is text:\" + text)\n",
    "    if (\"No data available\" in text):\n",
    "        print(\"entered case where it is null\")\n",
    "        return {}    if await table.count() > 0:\n",
    "        print(\"Table found\")\n",
    "        rows = table.locator(\"tr\")\n",
    "        print(\"this is the rows count: \" + str(await rows.count()))\n",
    "        for i in range(await rows.count()):\n",
    "    \n",
    "    #print(\"this is the text:\" + text)\n",
    "    \n",
    "    if (table != None):\n",
    "\n",
    "        text = await table.inner_text()\n",
    "            \n",
    "        #here we are waiting for the next button to be visible\n",
    "        await page.wait_for_selector('tr.even', state = 'visible')\n",
    "        await page.wait_for_selector('tr.odd', state = 'visible')\n",
    "    \n",
    "    \n",
    "        #here we are going through the table and collecting the data\n",
    "      \n",
    "        i  = 0\n",
    "        data = []\n",
    "        while ( (await page.query_selector('#nsopwdt_next')) != None):\n",
    "            \n",
    "            new_entries = await collectPage(page)\n",
    "            hashy.update(new_entries)   \n",
    "            \n",
    "            try:\n",
    "                success = await page.click('a#nsopwdt_next')\n",
    "                await page.wait_for_url( \"https://www.nsopw.gov/search-public-sex-offender-registries\")\n",
    "            \n",
    "            except Exception as e:\n",
    "             #   print(\"click failed for i = \" + str(i))\n",
    "                break\n",
    "   \n",
    "\n",
    "        new_entries = await collectPage(page)\n",
    "        if (new_entries != None):\n",
    "            await hashy.update(new_entries)\n",
    "        \n",
    "\n",
    "        return hashy\n",
    "        \n",
    "        \n",
    "    #tsf > div: nth-child(1) > primary content\n",
    "    #html.js body.page-with-hero.path-node.page-node-type-landing-page div.dialog-off-canvas-main-canvas div.usa-section.uswds-middle-section main.uswds-main-content-wrapper.grid-container div.grid-row.grid-gap-2 div.region-content.tablet:grid-col-12 div.region.region-content div#block-chameleon-content.block.block-system.block-system-main-block article div div.layout--node-landing_page.layout.layout--onecol div.layout__region.layout__region--content div.block.block-block-content.block-block-content33932e6d-a7f4-4cad-92e8-aa8b506e2c32 div.use-float-friendly-lists.field.field--name-body.field--type-text-with-summary.field--label-hidden.long-text div.container div.views-exposed-form.usa-accordion div#0-0.usa-accordion__content.usa-prose.ui-widget-content div.form--inline.clearfix div.grid-row.grid-gap div.desktop:grid-col-6.searchBy.searchName div.ojp-filter-section__filters div.usa-form-group.js-form-item.form-item.js-form-type-button button#searchbynamezip.usa-button--secondary.button.s-form-submit.form-submit.usa-button.usa-input.nsopwRed\n",
    "                      #while( page.Textcontent() \n",
    "    \n",
    "    #<button id=\"searchbynamezip\" class=\"usa-button--secondary button s-form-submit form-submit usa-button usa-input nsopwRed\" style=\"float:right;\" onclick=\"NSOPWForm.performSearch(this)\">Search by Name and/or\n",
    "     #                               Zip\n",
    "      #                   100 Brain Ct,            Code\n",
    "       #         "
   ]
  },
  {
   "cell_type": "code",
   "execution_count": null,
   "id": "e30203eb",
   "metadata": {},
   "outputs": [],
   "source": []
  },
  {
   "cell_type": "code",
   "execution_count": 138,
   "id": "ede58f0e",
   "metadata": {},
   "outputs": [],
   "source": [
    "def get_lat_long(address):\n",
    "    apiKey = \"\"\n",
    "    with open(\"apiKey.text\") as file:\n",
    "        apiKey = file.readline()\n",
    "    url = f\"https://maps.googleapis.com/maps/api/geocode/json?address={address}&key={apiKey}\"\n",
    "    response = requests.get(url)\n",
    "    if response.status_code == 200:\n",
    "        # Parse the JSON response\n",
    "        data = response.json()\n",
    "        if data['status'] == 'OK':\n",
    "            # Extract latitude and longitude\n",
    "            latitude = data['results'][0]['geometry']['location']['lat']\n",
    "            longitude = data['results'][0]['geometry']['location']['lng']\n",
    "            return (latitude, longitude)\n",
    "        else:\n",
    "            return None, None\n",
    "    else:\n",
    "        print(\"Failed to retrieve data:\", response.status_code)\n",
    "        return None, None"
   ]
  },
  {
   "cell_type": "code",
   "execution_count": 14,
   "id": "12e5ae68",
   "metadata": {},
   "outputs": [],
   "source": [
    "async def main2(address):\n",
    "    async with async_playwright() as playwright:\n",
    "        return (await publicRecordsTest(playwright, address))"
   ]
  },
  {
   "cell_type": "code",
   "execution_count": 20,
   "id": "4642f971",
   "metadata": {},
   "outputs": [
    {
     "name": "stdout",
     "output_type": "stream",
     "text": [
      "Entered updated public records\n",
      "this is the address:218 towne ridge lane chapel Hill, NC 27516 \n",
      "this is the address:218 towne ridge lane chapel Hill,27516\n",
      "this is the city:lane chapel Hill\n",
      "this is the state:NC\n",
      "https://www.nsopw.gov/search-public-sex-offender-registries\n"
     ]
    },
    {
     "ename": "AttributeError",
     "evalue": "'ElementHandle' object has no attribute 'count'",
     "output_type": "error",
     "traceback": [
      "\u001b[0;31m---------------------------------------------------------------------------\u001b[0m",
      "\u001b[0;31mAttributeError\u001b[0m                            Traceback (most recent call last)",
      "Cell \u001b[0;32mIn[20], line 1\u001b[0m\n\u001b[0;32m----> 1\u001b[0m \u001b[38;5;28;01mawait\u001b[39;00m main2(\u001b[38;5;124m\"\u001b[39m\u001b[38;5;124m218 towne ridge lane chapel Hill, NC 27516 \u001b[39m\u001b[38;5;124m\"\u001b[39m)    \n",
      "Cell \u001b[0;32mIn[14], line 3\u001b[0m, in \u001b[0;36mmain2\u001b[0;34m(address)\u001b[0m\n\u001b[1;32m      1\u001b[0m \u001b[38;5;28;01masync\u001b[39;00m \u001b[38;5;28;01mdef\u001b[39;00m \u001b[38;5;21mmain2\u001b[39m(address):\n\u001b[1;32m      2\u001b[0m     \u001b[38;5;28;01masync\u001b[39;00m \u001b[38;5;28;01mwith\u001b[39;00m async_playwright() \u001b[38;5;28;01mas\u001b[39;00m playwright:\n\u001b[0;32m----> 3\u001b[0m         \u001b[38;5;28;01mreturn\u001b[39;00m (\u001b[38;5;28;01mawait\u001b[39;00m publicRecordsTest(playwright, address))\n",
      "Cell \u001b[0;32mIn[19], line 90\u001b[0m, in \u001b[0;36mpublicRecordsTest\u001b[0;34m(playwright, address)\u001b[0m\n\u001b[1;32m     87\u001b[0m         \u001b[38;5;28;01mexcept\u001b[39;00m \u001b[38;5;167;01mException\u001b[39;00m \u001b[38;5;28;01mas\u001b[39;00m e:\n\u001b[1;32m     88\u001b[0m          \u001b[38;5;66;03m#   print(\"click failed for i = \" + str(i))\u001b[39;00m\n\u001b[1;32m     89\u001b[0m             \u001b[38;5;28;01mbreak\u001b[39;00m\n\u001b[0;32m---> 90\u001b[0m \u001b[38;5;28;01mif\u001b[39;00m \u001b[38;5;28;01mawait\u001b[39;00m \u001b[43mtable\u001b[49m\u001b[38;5;241;43m.\u001b[39;49m\u001b[43mcount\u001b[49m() \u001b[38;5;241m>\u001b[39m \u001b[38;5;241m0\u001b[39m:\n\u001b[1;32m     91\u001b[0m     \u001b[38;5;28mprint\u001b[39m(\u001b[38;5;124m\"\u001b[39m\u001b[38;5;124mTable found\u001b[39m\u001b[38;5;124m\"\u001b[39m)\n\u001b[1;32m     92\u001b[0m     rows \u001b[38;5;241m=\u001b[39m table\u001b[38;5;241m.\u001b[39mlocator(\u001b[38;5;124m\"\u001b[39m\u001b[38;5;124mtr\u001b[39m\u001b[38;5;124m\"\u001b[39m)\n",
      "\u001b[0;31mAttributeError\u001b[0m: 'ElementHandle' object has no attribute 'count'"
     ]
    }
   ],
   "source": [
    "await main2(\"218 towne ridge lane chapel Hill, NC 27516 \")    "
   ]
  },
  {
   "cell_type": "code",
   "execution_count": 25,
   "id": "339cc2a5-28f3-47c4-925b-ad653cde10ff",
   "metadata": {},
   "outputs": [],
   "source": [
    "def readSafetyIndexes():\n",
    "    with open(\"safetyIndexesCali.txt\", \"r\") as file:\n",
    "      \n",
    "        pattern = r\"this is the address:(.*?)\\nthis is the price:(.*?)\\n\"\n",
    "\n",
    "# Find all matches in the text\n",
    "        matches = re.findall(pattern, file.read(), re.DOTALL)\n",
    "\n",
    "# Convert matches to a list of tuples (address, price)\n",
    "        address_price_pairs = [(match[0].strip(), match[1].strip()) for match in matches]\n",
    "\n",
    "    return address_price_pairs"
   ]
  },
  {
   "cell_type": "code",
   "execution_count": 98,
   "id": "821a602d-cd90-45f8-bcf8-5df9a88b783b",
   "metadata": {},
   "outputs": [],
   "source": [
    "from sklearn.preprocessing import StandardScaler"
   ]
  },
  {
   "cell_type": "code",
   "execution_count": 124,
   "id": "fabf4e0e-c2d6-4dca-aa5e-319bc9914db6",
   "metadata": {},
   "outputs": [],
   "source": [
    "def normalizeData(hashy):\n",
    "    addresses = []\n",
    "    prices = []\n",
    "    numCriminals = []\n",
    "    for key in hashy.keys():\n",
    "        print(\"THIS IS THE KEY:\" + str(key))\n",
    "\n",
    "        #if there is a dollar sign, then we have the price and the number of criminals nearby\n",
    "        if (\"$\" in key[1]):\n",
    "            price = key[1].replace('$', '')\n",
    "            price = price.replace(',', '')\n",
    "            \n",
    "            if (\"From\" in key[1]):\n",
    "                price = price.replace(\"From\", \"\")\n",
    "           \n",
    "            print(\"this is the price:\" + str(price))\n",
    "            prices.append(price)\n",
    "            \n",
    "            if (hashy[key] == 0):\n",
    "                numCriminals.append(0)\n",
    "            else:\n",
    "                numCriminals.append(1/hashy[key])\n",
    "        \n",
    "    prices = np.array(prices).reshape(-1, 1)\n",
    "    numCriminals = np.array(numCriminals).reshape(-1, 1)\n",
    "    scaler = StandardScaler()\n",
    "\n",
    "    \n",
    "    scaled_prices = scaler.fit_transform(prices)\n",
    "    scaled_numCriminals = scaler.fit_transform(numCriminals)\n",
    "\n",
    "    # Creating the DataFrame\n",
    "    df = pd.DataFrame({\n",
    "        'Price': scaled_prices.flatten(),  # Flatten to convert from 2D back to 1D\n",
    "        'numCriminals': 1 - scaled_numCriminals.flatten()\n",
    "    })\n",
    "\n",
    "    # Calculate the safety rating\n",
    "    df[\"safetyRating\"] = df['numCriminals'] + df['Price'] / 2\n",
    "\n",
    "    return df\n"
   ]
  },
  {
   "cell_type": "code",
   "execution_count": 12,
   "id": "02281260-8ffb-4f74-acc1-e716057c9c6c",
   "metadata": {},
   "outputs": [],
   "source": [
    "async def main2(address):\n",
    "    async with async_playwright() as playwright:\n",
    "        return (await publicRecordsTest(playwright, address))"
   ]
  }
 ],
 "metadata": {
  "kernelspec": {
   "display_name": "Python 3",
   "language": "python",
   "name": "python3"
  },
  "language_info": {
   "codemirror_mode": {
    "name": "ipython",
    "version": 3
   },
   "file_extension": ".py",
   "mimetype": "text/x-python",
   "name": "python",
   "nbconvert_exporter": "python",
   "pygments_lexer": "ipython3",
   "version": "3.12.3"
  }
 },
 "nbformat": 4,
 "nbformat_minor": 5
}
